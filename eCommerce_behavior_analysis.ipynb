{
 "cells": [
  {
   "cell_type": "code",
   "execution_count": 51,
   "id": "41381e10-e034-4e73-8329-d0a2af5ace63",
   "metadata": {},
   "outputs": [],
   "source": [
    "from pyspark.sql import SparkSession\n",
    "from pyspark.sql.functions import col, sum, count, split, when, countDistinct, max\n",
    "from pyspark.sql.window import Window\n",
    "import matplotlib.pyplot as plt\n",
    "import numpy as np\n",
    "\n",
    "# create SparkSession\n",
    "spark = SparkSession.builder \\\n",
    "    .appName(\"eCommerce_behavior_data_analysis\") \\\n",
    "    .config(\"spark.executor.memory\", \"8g\") \\\n",
    "    .config(\"spark.driver.memory\", \"4g\") \\\n",
    "    .config(\"spark.executor.memoryOverhead\", \"2g\") \\\n",
    "    .config(\"spark.executor.heartbeatInterval\", \"900s\") \\\n",
    "    .config(\"spark.network.timeout\", \"1000s\") \\\n",
    "    .config(\"spark.hadoop.fs.defaultFS\", \"hdfs://localhost:9000\") \\\n",
    "    .getOrCreate()"
   ]
  },
  {
   "cell_type": "code",
   "execution_count": 2,
   "id": "a7d78991-6cc4-433d-a44e-a6f8fd8f7519",
   "metadata": {},
   "outputs": [
    {
     "name": "stdout",
     "output_type": "stream",
     "text": [
      "+-------------------+----------+----------+-------------------+--------------------+--------+-------+---------+--------------------+\n",
      "|         event_time|event_type|product_id|        category_id|       category_code|   brand|  price|  user_id|        user_session|\n",
      "+-------------------+----------+----------+-------------------+--------------------+--------+-------+---------+--------------------+\n",
      "|2019-10-01 02:00:00|      view|  44600062|2103807459595387724|                NULL|shiseido|  35.79|541312140|72d76fde-8bb3-4e0...|\n",
      "|2019-10-01 02:00:00|      view|   3900821|2053013552326770905|appliances.enviro...|    aqua|   33.2|554748717|9333dfbd-b87a-470...|\n",
      "|2019-10-01 02:00:01|      view|  17200506|2053013559792632471|furniture.living_...|    NULL|  543.1|519107250|566511c2-e2e3-422...|\n",
      "|2019-10-01 02:00:01|      view|   1307067|2053013558920217191|  computers.notebook|  lenovo| 251.74|550050854|7c90fc70-0e80-459...|\n",
      "|2019-10-01 02:00:04|      view|   1004237|2053013555631882655|electronics.smart...|   apple|1081.98|535871217|c6bd7419-2748-4c5...|\n",
      "+-------------------+----------+----------+-------------------+--------------------+--------+-------+---------+--------------------+\n",
      "only showing top 5 rows\n",
      "\n"
     ]
    }
   ],
   "source": [
    "df = spark.read.csv(\"hdfs://localhost:9000/user/michaeliayang/2019-Oct.csv\", header=True, inferSchema=True)\n",
    "\n",
    "# Show first 5 lines\n",
    "df.show(5)"
   ]
  },
  {
   "cell_type": "code",
   "execution_count": 3,
   "id": "06906d31-56f1-41e7-a77c-45e72ccc38e6",
   "metadata": {},
   "outputs": [
    {
     "name": "stdout",
     "output_type": "stream",
     "text": [
      "root\n",
      " |-- event_time: timestamp (nullable = true)\n",
      " |-- event_type: string (nullable = true)\n",
      " |-- product_id: integer (nullable = true)\n",
      " |-- category_id: long (nullable = true)\n",
      " |-- category_code: string (nullable = true)\n",
      " |-- brand: string (nullable = true)\n",
      " |-- price: double (nullable = true)\n",
      " |-- user_id: integer (nullable = true)\n",
      " |-- user_session: string (nullable = true)\n",
      "\n"
     ]
    }
   ],
   "source": [
    "df.printSchema()"
   ]
  },
  {
   "cell_type": "code",
   "execution_count": 4,
   "id": "9ed2a719-aae3-4e63-9b37-14a70cb9125c",
   "metadata": {},
   "outputs": [
    {
     "name": "stdout",
     "output_type": "stream",
     "text": [
      "Missing Values:\n",
      "+----------+----------+----------+-----------+-------------+-------+-----+-------+------------+\n",
      "|event_time|event_type|product_id|category_id|category_code|  brand|price|user_id|user_session|\n",
      "+----------+----------+----------+-----------+-------------+-------+-----+-------+------------+\n",
      "|         0|         0|         0|          0|     13515609|6113008|    0|      0|           2|\n",
      "+----------+----------+----------+-----------+-------------+-------+-----+-------+------------+\n",
      "\n"
     ]
    }
   ],
   "source": [
    "missing_values = df.select([sum(col(c).isNull().cast(\"int\")).alias(c) for c in df.columns])\n",
    "print('Missing Values:')\n",
    "missing_values.show()"
   ]
  },
  {
   "cell_type": "code",
   "execution_count": 13,
   "id": "900f0f05-80d6-4945-8d2d-b902fdca54b5",
   "metadata": {},
   "outputs": [
    {
     "name": "stdout",
     "output_type": "stream",
     "text": [
      "Number of Duplicates: 18099\n",
      "+-------------------+----------+----------+-------------------+--------------------+-------+------+---------+--------------------+-----+\n",
      "|         event_time|event_type|product_id|        category_id|       category_code|  brand| price|  user_id|        user_session|count|\n",
      "+-------------------+----------+----------+-------------------+--------------------+-------+------+---------+--------------------+-----+\n",
      "|2019-10-01 16:44:59|      cart|   1801806|2053013554415534427|electronics.video.tv|  artel| 124.4|551484167|cbea1412-7f08-476...|    4|\n",
      "|2019-10-01 10:32:16|      view|   2600519|2053013563970159485|                NULL| gefest|166.28|555549288|35785d30-1ba0-44b...|    2|\n",
      "|2019-10-02 05:03:10|      cart|  30000074|2127425436764865054|construction.tool...|eurolux| 99.62|535333026|f492aac9-9ce1-4ba...|    2|\n",
      "|2019-10-02 10:42:47|      cart|   1004767|2053013555631882655|electronics.smart...|samsung|253.05|543076049|5f099d9f-bd48-40d...|    2|\n",
      "|2019-10-02 11:17:59|      cart|   1004873|2053013555631882655|electronics.smart...|samsung|388.42|555943033|bef15765-5895-434...|    5|\n",
      "|2019-10-02 18:20:16|      cart|  45300017|2106075662325383725|          kids.swing|   NULL|332.05|536866317|266f0eff-24c1-41a...|    2|\n",
      "|2019-10-03 05:52:05|      cart|   1801806|2053013554415534427|electronics.video.tv|  artel|124.32|556223695|b93c6690-b342-49e...|    5|\n",
      "|2019-10-03 05:55:57|      cart|   3700777|2053013565983425517|appliances.enviro...|samsung|164.71|538338220|baf6ebcd-c903-4c3...|    2|\n",
      "|2019-10-03 10:36:56|      cart|   5100503|2053013553375346967|                NULL| xiaomi| 23.12|551590680|71e1578e-1ee8-48e...|    2|\n",
      "|2019-10-03 13:07:47|      cart|   1004720|2053013555631882655|electronics.smart...| huawei| 127.4|556340898|b340fc3f-4934-4ad...|    3|\n",
      "+-------------------+----------+----------+-------------------+--------------------+-------+------+---------+--------------------+-----+\n",
      "only showing top 10 rows\n",
      "\n"
     ]
    }
   ],
   "source": [
    "duplicates = df.groupBy(df.columns) \\\n",
    "    .count() \\\n",
    "    .filter(col(\"count\") > 1)\n",
    "\n",
    "duplicates_count = duplicates.count()\n",
    "\n",
    "print(f\"Number of Duplicates: {duplicates_count}\")\n",
    "duplicates.show(10)"
   ]
  },
  {
   "cell_type": "code",
   "execution_count": 16,
   "id": "7446f29e-5dbb-4393-b4b9-27e4cfa3f4a8",
   "metadata": {},
   "outputs": [
    {
     "name": "stdout",
     "output_type": "stream",
     "text": [
      "Number of Duplicates: 0\n"
     ]
    }
   ],
   "source": [
    "df = df.dropDuplicates()\n",
    "duplicates = df.groupBy(df.columns) \\\n",
    "    .count() \\\n",
    "    .filter(col(\"count\") > 1)\n",
    "\n",
    "duplicates_count = duplicates.count()\n",
    "\n",
    "print(f\"Number of Duplicates: {duplicates_count}\")"
   ]
  },
  {
   "cell_type": "code",
   "execution_count": 20,
   "id": "f7238f10-bdf6-482a-abba-1123267642a9",
   "metadata": {},
   "outputs": [
    {
     "name": "stdout",
     "output_type": "stream",
     "text": [
      "+----------+\n",
      "|event_type|\n",
      "+----------+\n",
      "|  purchase|\n",
      "|      view|\n",
      "|      cart|\n",
      "+----------+\n",
      "\n"
     ]
    }
   ],
   "source": [
    "event_type = df.select('event_type').distinct()\n",
    "event_type.show()"
   ]
  },
  {
   "cell_type": "markdown",
   "id": "36cd9af1-0f62-4cd6-b573-f3f9b7835904",
   "metadata": {},
   "source": [
    "# Global Convension Rate Analysis"
   ]
  },
  {
   "cell_type": "code",
   "execution_count": 19,
   "id": "932d4a01-1381-4df2-bab2-ffce28913b60",
   "metadata": {},
   "outputs": [
    {
     "name": "stdout",
     "output_type": "stream",
     "text": [
      "View to Cart Rate: 2.20%\n",
      "Cart to Purchase Rate: 82.67%\n",
      "Overall Conversion Rate: 1.82%\n"
     ]
    }
   ],
   "source": [
    "# calculate the global conversion rate\n",
    "global_funnel = df.groupBy(\"event_type\").agg(count(\"*\").alias(\"event_count\"))\n",
    "\n",
    "total_views = global_funnel.filter(col(\"event_type\") == \"view\").select(\"event_count\").collect()[0][0]\n",
    "total_carts = global_funnel.filter(col(\"event_type\") == \"cart\").select(\"event_count\").collect()[0][0]\n",
    "total_purchases = global_funnel.filter(col(\"event_type\") == \"purchase\").select(\"event_count\").collect()[0][0]\n",
    "\n",
    "view_to_cart_rate = total_carts / total_views\n",
    "cart_to_purchase_rate = total_purchases / total_carts\n",
    "overall_conversion_rate = total_purchases / total_views\n",
    "\n",
    "print(f\"View to Cart Rate: {view_to_cart_rate:.2%}\")\n",
    "print(f\"Cart to Purchase Rate: {cart_to_purchase_rate:.2%}\")\n",
    "print(f\"Overall Conversion Rate: {overall_conversion_rate:.2%}\")"
   ]
  },
  {
   "cell_type": "markdown",
   "id": "82b22839-f573-4eea-9415-faccf420618d",
   "metadata": {},
   "source": [
    "# Category Convension Rate Analysis"
   ]
  },
  {
   "cell_type": "code",
   "execution_count": 23,
   "id": "1dabb340-ce49-4f20-b743-ce14dcb2a2ae",
   "metadata": {},
   "outputs": [
    {
     "name": "stdout",
     "output_type": "stream",
     "text": [
      "+--------------------+-------------+\n",
      "|       category_code|category_main|\n",
      "+--------------------+-------------+\n",
      "|electronics.audio...|  electronics|\n",
      "|construction.tool...| construction|\n",
      "|electronics.smart...|  electronics|\n",
      "|appliances.kitche...|   appliances|\n",
      "|electronics.smart...|  electronics|\n",
      "|electronics.smart...|  electronics|\n",
      "|electronics.smart...|  electronics|\n",
      "|electronics.smart...|  electronics|\n",
      "|electronics.smart...|  electronics|\n",
      "|  electronics.clocks|  electronics|\n",
      "+--------------------+-------------+\n",
      "only showing top 10 rows\n",
      "\n"
     ]
    }
   ],
   "source": [
    "df_categories = df.withColumn(\"category_main\", split(col(\"category_code\"), r\"\\.\").getItem(0))\n",
    "    \n",
    "df_no_nulls = df_categories.filter(col(\"category_code\").isNotNull())\n",
    "\n",
    "# Check if main categories are correctly extracted\n",
    "df_no_nulls.select(\"category_code\", \"category_main\").show(10)"
   ]
  },
  {
   "cell_type": "code",
   "execution_count": 45,
   "id": "00b38d9d-c485-494c-aa0b-20f2396d9ae0",
   "metadata": {},
   "outputs": [
    {
     "name": "stdout",
     "output_type": "stream",
     "text": [
      "+-------------+-------------+\n",
      "|category_main|product_count|\n",
      "+-------------+-------------+\n",
      "|     medicine|           29|\n",
      "|    computers|         7930|\n",
      "|         auto|         1201|\n",
      "|   stationery|          607|\n",
      "|        sport|         2157|\n",
      "|      apparel|        13417|\n",
      "|   appliances|        12362|\n",
      "| country_yard|          185|\n",
      "|    furniture|         6972|\n",
      "|  accessories|         2516|\n",
      "|         kids|         5123|\n",
      "|  electronics|        14950|\n",
      "| construction|         5701|\n",
      "+-------------+-------------+\n",
      "\n",
      "+-------------+-------------+--------------------+\n",
      "|category_main|product_count|       product_ratio|\n",
      "+-------------+-------------+--------------------+\n",
      "|     medicine|           29|3.964456596035543...|\n",
      "|    computers|         7930| 0.10840738209159262|\n",
      "|         auto|         1201|0.016418318523581683|\n",
      "|   stationery|          607|0.008298017771701981|\n",
      "|        sport|         2157|0.029487354750512645|\n",
      "|      apparel|        13417| 0.18341763499658237|\n",
      "|   appliances|        12362| 0.16899521531100478|\n",
      "| country_yard|          185| 0.00252904989747095|\n",
      "|    furniture|         6972|   0.095311004784689|\n",
      "|  accessories|         2516| 0.03439507860560492|\n",
      "|         kids|         5123| 0.07003417634996582|\n",
      "|  electronics|        14950| 0.20437457279562543|\n",
      "| construction|         5701| 0.07793574846206425|\n",
      "+-------------+-------------+--------------------+\n",
      "\n"
     ]
    }
   ],
   "source": [
    "category_main_count = df_no_nulls.groupBy(\"category_main\").agg(countDistinct(\"product_id\").alias(\"product_count\"))\n",
    "category_main_count.show()\n",
    "\n",
    "# calculate total products\n",
    "total_products = df_no_nulls.select(countDistinct(\"product_id\")).collect()[0][0]\n",
    "\n",
    "# calculate the ratio of each product\n",
    "category_main_ratio = category_main_count.withColumn(\"product_ratio\", col(\"product_count\") / total_products)\n",
    "\n",
    "category_main_ratio.show()"
   ]
  },
  {
   "cell_type": "code",
   "execution_count": 77,
   "id": "ba8e6fd4-2e88-4040-a9bb-a43c613ea3f3",
   "metadata": {},
   "outputs": [
    {
     "data": {
      "image/png": "[encoded data removed]",
      "text/plain": [
       "<Figure size 600x600 with 1 Axes>"
      ]
     },
     "metadata": {},
     "output_type": "display_data"
    }
   ],
   "source": [
    "category_main_ratio_pd = category_main_ratio.toPandas()\n",
    "\n",
    "mainCat_names = category_main_ratio_pd[\"category_main\"]\n",
    "mainCat_values = category_main_ratio_pd[\"product_ratio\"]\n",
    "\n",
    "plt.figure(figsize=(6, 6))\n",
    "plt.pie(mainCat_values, labels=mainCat_names, autopct='%1.1f%%', startangle=140, wedgeprops={'edgecolor': 'black'})\n",
    "plt.title(\"Main Category Distribution\")\n",
    "plt.show()"
   ]
  },
  {
   "cell_type": "code",
   "execution_count": 85,
   "id": "48aa0052-6ad7-44b5-9fe8-4ffab66f24ad",
   "metadata": {},
   "outputs": [
    {
     "name": "stdout",
     "output_type": "stream",
     "text": [
      "+-------------+----------+-------------+\n",
      "|category_main|event_type|product_count|\n",
      "+-------------+----------+-------------+\n",
      "|   appliances|  purchase|         4838|\n",
      "|   stationery|      cart|           34|\n",
      "|        sport|  purchase|          270|\n",
      "| construction|  purchase|          939|\n",
      "|   appliances|      cart|         2852|\n",
      "|         auto|      cart|          167|\n",
      "|    furniture|      cart|          218|\n",
      "|  accessories|  purchase|          554|\n",
      "|  electronics|  purchase|         4698|\n",
      "|    computers|      cart|         1285|\n",
      "+-------------+----------+-------------+\n",
      "only showing top 10 rows\n",
      "\n",
      "+-------------+-------------------+\n",
      "|category_main|    conversion_rate|\n",
      "+-------------+-------------------+\n",
      "|  accessories|0.17399497487437185|\n",
      "|      apparel|0.15754154907494514|\n",
      "|   appliances| 0.2412726910033912|\n",
      "|         auto|0.30804248861911987|\n",
      "|    computers|0.22255968953007677|\n",
      "| construction| 0.1347782402755849|\n",
      "| country_yard|0.13063063063063063|\n",
      "|  electronics|0.21801475706529305|\n",
      "|    furniture|0.18517679057116954|\n",
      "|         kids|0.15605144893847822|\n",
      "+-------------+-------------------+\n",
      "only showing top 10 rows\n",
      "\n"
     ]
    }
   ],
   "source": [
    "category_funnel = df_no_nulls.groupBy(\"category_main\", \"event_type\").agg(countDistinct(\"product_id\").alias(\"product_count\"))\n",
    "category_funnel.show(10)\n",
    "\n",
    "window_spec = Window.partitionBy(\"category_main\")\n",
    "category_conversion = category_funnel.withColumn(\"total_views\", sum(col(\"product_count\")).over(window_spec)) \\\n",
    "    .filter(col(\"event_type\") == \"purchase\") \\\n",
    "    .withColumn(\"conversion_rate\", col(\"product_count\") / col(\"total_views\")) \\\n",
    "    .select(\"category_main\", \"conversion_rate\")\n",
    "\n",
    "category_conversion.show(10)"
   ]
  },
  {
   "cell_type": "markdown",
   "id": "1b4b58e0-a123-4efa-806c-842d8ad6c889",
   "metadata": {},
   "source": [
    "# The part below not done yet!"
   ]
  },
  {
   "cell_type": "code",
   "execution_count": 86,
   "id": "50b094d1-6504-4f35-95fe-3e9cb69a5914",
   "metadata": {},
   "outputs": [
    {
     "name": "stdout",
     "output_type": "stream",
     "text": [
      "+-------------+----------+--------------+--------------------+\n",
      "|category_main|view_count|purchase_count|     conversion_rate|\n",
      "+-------------+----------+--------------+--------------------+\n",
      "|     medicine|     13974|           310|  0.0221840561041935|\n",
      "|    computers|   2268793|         27853|0.012276571727786536|\n",
      "|         auto|    993394|         10619|0.010689615600657947|\n",
      "|   stationery|      7380|           134|0.018157181571815718|\n",
      "|        sport|    174310|          1236|0.007090815214273...|\n",
      "|      apparel|   1534873|          8002|0.005213460657657018|\n",
      "|   appliances|   4799746|         74988|0.015623326734373028|\n",
      "| country_yard|     13956|            72|0.005159071367153913|\n",
      "|    furniture|   1236410|          8299|0.006712174764034584|\n",
      "|  accessories|    236100|          1587|0.006721728081321474|\n",
      "|         kids|    512465|          5482| 0.01069731591425756|\n",
      "|  electronics|  15037384|        422979|0.028128496286322142|\n",
      "| construction|    712672|          7801|0.010946129495756813|\n",
      "+-------------+----------+--------------+--------------------+\n",
      "\n"
     ]
    }
   ],
   "source": [
    "category_conversion = df_no_nulls.groupBy(\"category_main\").agg(\n",
    "    count(when(col(\"event_type\") == \"view\", True)).alias(\"view_count\"),\n",
    "    count(when(col(\"event_type\") == \"purchase\", True)).alias(\"purchase_count\")\n",
    ")\n",
    "\n",
    "# calculate conversion ratio\n",
    "category_conversion = category_conversion.withColumn(\n",
    "    \"conversion_rate\", col(\"purchase_count\") / col(\"view_count\")\n",
    ")\n",
    "\n",
    "category_conversion.show()"
   ]
  },
  {
   "cell_type": "code",
   "execution_count": 87,
   "id": "5af57278-4e4c-461e-aa78-73d0f73a3597",
   "metadata": {},
   "outputs": [
    {
     "name": "stdout",
     "output_type": "stream",
     "text": [
      "+-------------+----------+--------------+---------------------+\n",
      "|category_main|cart_count|purchase_count|cart_to_purchase_rate|\n",
      "+-------------+----------+--------------+---------------------+\n",
      "|     medicine|       514|           310|    0.603112840466926|\n",
      "|    computers|     26821|         27853|    1.038477312553596|\n",
      "|         auto|      8916|         10619|   1.1910049349484073|\n",
      "|   stationery|       106|           134|   1.2641509433962264|\n",
      "|        sport|      1015|          1236|   1.2177339901477833|\n",
      "|      apparel|        26|          8002|    307.7692307692308|\n",
      "|   appliances|     89371|         74988|   0.8390641259468955|\n",
      "| country_yard|        53|            72|   1.3584905660377358|\n",
      "|    furniture|      2331|          8299|   3.5602745602745602|\n",
      "|  accessories|       537|          1587|   2.9553072625698324|\n",
      "|         kids|      2534|          5482|   2.1633780584056828|\n",
      "|  electronics|    653158|        422979|   0.6475906289136778|\n",
      "| construction|     10081|          7801|   0.7738319611149688|\n",
      "+-------------+----------+--------------+---------------------+\n",
      "\n"
     ]
    }
   ],
   "source": [
    "category_cart_conversion = df_no_nulls.groupBy(\"category_main\").agg(\n",
    "    count(when(col(\"event_type\") == \"cart\", True)).alias(\"cart_count\"),\n",
    "    count(when(col(\"event_type\") == \"purchase\", True)).alias(\"purchase_count\")\n",
    ")\n",
    "\n",
    "category_cart_conversion = category_cart_conversion.withColumn(\n",
    "    \"cart_to_purchase_rate\", col(\"purchase_count\") / col(\"cart_count\")\n",
    ")\n",
    "\n",
    "category_cart_conversion.show()"
   ]
  },
  {
   "cell_type": "code",
   "execution_count": null,
   "id": "b256b81d-7d77-43e9-a987-6a309b58df41",
   "metadata": {},
   "outputs": [],
   "source": []
  }
 ],
 "metadata": {
  "kernelspec": {
   "display_name": "Python 3 (ipykernel)",
   "language": "python",
   "name": "python3"
  },
  "language_info": {
   "codemirror_mode": {
    "name": "ipython",
    "version": 3
   },
   "file_extension": ".py",
   "mimetype": "text/x-python",
   "name": "python",
   "nbconvert_exporter": "python",
   "pygments_lexer": "ipython3",
   "version": "3.12.4"
  }
 },
 "nbformat": 4,
 "nbformat_minor": 5
}
