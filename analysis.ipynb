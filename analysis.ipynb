{
 "cells": [
  {
   "cell_type": "code",
   "execution_count": 1,
   "metadata": {},
   "outputs": [],
   "source": [
    "from pyspark.sql import SparkSession\n",
    "from pyspark.sql.functions import col, sum, count, split, when, countDistinct, max\n",
    "from pyspark.sql.window import Window\n",
    "import numpy as np\n",
    "import matplotlib.pyplot as plt\n",
    "import pandas as pd"
   ]
  },
  {
   "cell_type": "code",
   "execution_count": 2,
   "metadata": {},
   "outputs": [],
   "source": [
    "# create SparkSession\n",
    "spark = SparkSession.builder \\\n",
    "    .master(\"local\") \\\n",
    "    .appName(\"eCommerce_behavior_data_analysis\") \\\n",
    "    .config(\"spark.executor.memory\", \"8g\") \\\n",
    "    .config(\"spark.driver.memory\", \"4g\") \\\n",
    "    .config(\"spark.executor.memoryOverhead\", \"2g\") \\\n",
    "    .config(\"spark.executor.heartbeatInterval\", \"900s\") \\\n",
    "    .config(\"spark.network.timeout\", \"1000s\") \\\n",
    "    .config(\"spark.hadoop.fs.defaultFS\", \"hdfs://localhost:9000\") \\\n",
    "    .getOrCreate()"
   ]
  },
  {
   "cell_type": "code",
   "execution_count": 4,
   "metadata": {},
   "outputs": [
    {
     "name": "stdout",
     "output_type": "stream",
     "text": [
      "+-------------------+----------+----------+-------------------+--------------------+--------+-------+---------+--------------------+\n",
      "|         event_time|event_type|product_id|        category_id|       category_code|   brand|  price|  user_id|        user_session|\n",
      "+-------------------+----------+----------+-------------------+--------------------+--------+-------+---------+--------------------+\n",
      "|2019-10-01 02:00:00|      view|  44600062|2103807459595387724|                NULL|shiseido|  35.79|541312140|72d76fde-8bb3-4e0...|\n",
      "|2019-10-01 02:00:00|      view|   3900821|2053013552326770905|appliances.enviro...|    aqua|   33.2|554748717|9333dfbd-b87a-470...|\n",
      "|2019-10-01 02:00:01|      view|  17200506|2053013559792632471|furniture.living_...|    NULL|  543.1|519107250|566511c2-e2e3-422...|\n",
      "|2019-10-01 02:00:01|      view|   1307067|2053013558920217191|  computers.notebook|  lenovo| 251.74|550050854|7c90fc70-0e80-459...|\n",
      "|2019-10-01 02:00:04|      view|   1004237|2053013555631882655|electronics.smart...|   apple|1081.98|535871217|c6bd7419-2748-4c5...|\n",
      "+-------------------+----------+----------+-------------------+--------------------+--------+-------+---------+--------------------+\n",
      "only showing top 5 rows\n",
      "\n"
     ]
    }
   ],
   "source": [
    "df = spark.read.csv(\"hdfs://localhost:9000/BigData/2019-Oct.csv\", header=True, inferSchema=True)\n",
    "df.show(5)\n"
   ]
  },
  {
   "cell_type": "code",
   "execution_count": 5,
   "metadata": {},
   "outputs": [
    {
     "name": "stdout",
     "output_type": "stream",
     "text": [
      "root\n",
      " |-- event_time: timestamp (nullable = true)\n",
      " |-- event_type: string (nullable = true)\n",
      " |-- product_id: integer (nullable = true)\n",
      " |-- category_id: long (nullable = true)\n",
      " |-- category_code: string (nullable = true)\n",
      " |-- brand: string (nullable = true)\n",
      " |-- price: double (nullable = true)\n",
      " |-- user_id: integer (nullable = true)\n",
      " |-- user_session: string (nullable = true)\n",
      "\n"
     ]
    }
   ],
   "source": [
    "df.printSchema()\n"
   ]
  },
  {
   "cell_type": "code",
   "execution_count": 6,
   "metadata": {},
   "outputs": [
    {
     "name": "stdout",
     "output_type": "stream",
     "text": [
      "Missing Values:\n",
      "+----------+----------+----------+-----------+-------------+-------+-----+-------+------------+\n",
      "|event_time|event_type|product_id|category_id|category_code|  brand|price|user_id|user_session|\n",
      "+----------+----------+----------+-----------+-------------+-------+-----+-------+------------+\n",
      "|         0|         0|         0|          0|     13515609|6113008|    0|      0|           2|\n",
      "+----------+----------+----------+-----------+-------------+-------+-----+-------+------------+\n",
      "\n"
     ]
    }
   ],
   "source": [
    "# check missing values\n",
    "missing_values = df.select([sum(col(c).isNull().cast(\"int\")).alias(c) for c in df.columns])\n",
    "print('Missing Values:')\n",
    "missing_values.show()"
   ]
  },
  {
   "cell_type": "code",
   "execution_count": 7,
   "metadata": {},
   "outputs": [
    {
     "name": "stdout",
     "output_type": "stream",
     "text": [
      "Number of Duplicates: 18099\n",
      "+-------------------+----------+----------+-------------------+--------------------+-------+------+---------+--------------------+-----+\n",
      "|         event_time|event_type|product_id|        category_id|       category_code|  brand| price|  user_id|        user_session|count|\n",
      "+-------------------+----------+----------+-------------------+--------------------+-------+------+---------+--------------------+-----+\n",
      "|2019-10-01 16:44:59|      cart|   1801806|2053013554415534427|electronics.video.tv|  artel| 124.4|551484167|cbea1412-7f08-476...|    4|\n",
      "|2019-10-01 10:32:16|      view|   2600519|2053013563970159485|                NULL| gefest|166.28|555549288|35785d30-1ba0-44b...|    2|\n",
      "|2019-10-02 05:03:10|      cart|  30000074|2127425436764865054|construction.tool...|eurolux| 99.62|535333026|f492aac9-9ce1-4ba...|    2|\n",
      "|2019-10-02 10:42:47|      cart|   1004767|2053013555631882655|electronics.smart...|samsung|253.05|543076049|5f099d9f-bd48-40d...|    2|\n",
      "|2019-10-02 11:17:59|      cart|   1004873|2053013555631882655|electronics.smart...|samsung|388.42|555943033|bef15765-5895-434...|    5|\n",
      "|2019-10-02 18:20:16|      cart|  45300017|2106075662325383725|          kids.swing|   NULL|332.05|536866317|266f0eff-24c1-41a...|    2|\n",
      "|2019-10-03 05:52:05|      cart|   1801806|2053013554415534427|electronics.video.tv|  artel|124.32|556223695|b93c6690-b342-49e...|    5|\n",
      "|2019-10-03 05:55:57|      cart|   3700777|2053013565983425517|appliances.enviro...|samsung|164.71|538338220|baf6ebcd-c903-4c3...|    2|\n",
      "|2019-10-03 10:36:56|      cart|   5100503|2053013553375346967|                NULL| xiaomi| 23.12|551590680|71e1578e-1ee8-48e...|    2|\n",
      "|2019-10-03 13:07:47|      cart|   1004720|2053013555631882655|electronics.smart...| huawei| 127.4|556340898|b340fc3f-4934-4ad...|    3|\n",
      "+-------------------+----------+----------+-------------------+--------------------+-------+------+---------+--------------------+-----+\n",
      "only showing top 10 rows\n",
      "\n"
     ]
    }
   ],
   "source": [
    "duplicates = df.groupBy(df.columns) \\\n",
    "    .count() \\\n",
    "    .filter(col(\"count\") > 1)\n",
    "\n",
    "duplicates_count = duplicates.count()\n",
    "\n",
    "print(f\"Number of Duplicates: {duplicates_count}\")\n",
    "duplicates.show(10)"
   ]
  },
  {
   "cell_type": "code",
   "execution_count": 5,
   "metadata": {},
   "outputs": [],
   "source": [
    "df = df.dropDuplicates()"
   ]
  },
  {
   "cell_type": "code",
   "execution_count": null,
   "metadata": {},
   "outputs": [
    {
     "name": "stdout",
     "output_type": "stream",
     "text": [
      "Number of Duplicates: 0\n"
     ]
    }
   ],
   "source": [
    "\n",
    "duplicates = df.groupBy(df.columns) \\\n",
    "    .count() \\\n",
    "    .filter(col(\"count\") > 1)\n",
    "\n",
    "duplicates_count = duplicates.count()\n",
    "\n",
    "print(f\"Number of Duplicates: {duplicates_count}\")"
   ]
  },
  {
   "cell_type": "code",
   "execution_count": 9,
   "metadata": {},
   "outputs": [
    {
     "name": "stdout",
     "output_type": "stream",
     "text": [
      "+----------+\n",
      "|event_type|\n",
      "+----------+\n",
      "|  purchase|\n",
      "|      view|\n",
      "|      cart|\n",
      "+----------+\n",
      "\n"
     ]
    }
   ],
   "source": [
    "event_type = df.select('event_type').distinct()\n",
    "event_type.show()\n"
   ]
  },
  {
   "cell_type": "code",
   "execution_count": 10,
   "metadata": {},
   "outputs": [
    {
     "name": "stdout",
     "output_type": "stream",
     "text": [
      "View to Cart Rate: 2.20%\n",
      "Cart to Purchase Rate: 82.67%\n",
      "Overall Conversion Rate: 1.82%\n"
     ]
    }
   ],
   "source": [
    "# calculate the global conversion rate\n",
    "global_funnel = df.groupBy(\"event_type\").agg(count(\"*\").alias(\"event_count\"))\n",
    "\n",
    "total_views = global_funnel.filter(col(\"event_type\") == \"view\").select(\"event_count\").collect()[0][0]\n",
    "total_carts = global_funnel.filter(col(\"event_type\") == \"cart\").select(\"event_count\").collect()[0][0]\n",
    "total_purchases = global_funnel.filter(col(\"event_type\") == \"purchase\").select(\"event_count\").collect()[0][0]\n",
    "\n",
    "view_to_cart_rate = total_carts / total_views\n",
    "cart_to_purchase_rate = total_purchases / total_carts\n",
    "overall_conversion_rate = total_purchases / total_views\n",
    "\n",
    "print(f\"View to Cart Rate: {view_to_cart_rate:.2%}\")\n",
    "print(f\"Cart to Purchase Rate: {cart_to_purchase_rate:.2%}\")\n",
    "print(f\"Overall Conversion Rate: {overall_conversion_rate:.2%}\")"
   ]
  },
  {
   "cell_type": "code",
   "execution_count": 7,
   "metadata": {},
   "outputs": [
    {
     "name": "stdout",
     "output_type": "stream",
     "text": [
      "+--------------------+-------------+\n",
      "|       category_code|category_main|\n",
      "+--------------------+-------------+\n",
      "|electronics.audio...|  electronics|\n",
      "|construction.tool...| construction|\n",
      "|electronics.smart...|  electronics|\n",
      "|appliances.kitche...|   appliances|\n",
      "|electronics.smart...|  electronics|\n",
      "|electronics.smart...|  electronics|\n",
      "|electronics.smart...|  electronics|\n",
      "|electronics.smart...|  electronics|\n",
      "|electronics.smart...|  electronics|\n",
      "|  electronics.clocks|  electronics|\n",
      "+--------------------+-------------+\n",
      "only showing top 10 rows\n",
      "\n"
     ]
    }
   ],
   "source": [
    "df_categories = df.withColumn(\"category_main\", split(col(\"category_code\"), r\"\\.\").getItem(0))\n",
    "    \n",
    "df_no_nulls = df_categories.filter(col(\"category_code\").isNotNull())\n",
    "\n",
    "# Check if main categories are correctly extracted\n",
    "df_no_nulls.select(\"category_code\", \"category_main\").show(10)"
   ]
  },
  {
   "cell_type": "code",
   "execution_count": 8,
   "metadata": {},
   "outputs": [
    {
     "name": "stdout",
     "output_type": "stream",
     "text": [
      "+-------------+-------------+\n",
      "|category_main|product_count|\n",
      "+-------------+-------------+\n",
      "|     medicine|           29|\n",
      "|    computers|         7930|\n",
      "|         auto|         1201|\n",
      "|   stationery|          607|\n",
      "|        sport|         2157|\n",
      "|      apparel|        13417|\n",
      "|   appliances|        12362|\n",
      "| country_yard|          185|\n",
      "|    furniture|         6972|\n",
      "|  accessories|         2516|\n",
      "|         kids|         5123|\n",
      "|  electronics|        14950|\n",
      "| construction|         5701|\n",
      "+-------------+-------------+\n",
      "\n",
      "+-------------+-------------+--------------------+\n",
      "|category_main|product_count|       product_ratio|\n",
      "+-------------+-------------+--------------------+\n",
      "|     medicine|           29|3.964456596035543...|\n",
      "|    computers|         7930| 0.10840738209159262|\n",
      "|         auto|         1201|0.016418318523581683|\n",
      "|   stationery|          607|0.008298017771701981|\n",
      "|        sport|         2157|0.029487354750512645|\n",
      "|      apparel|        13417| 0.18341763499658237|\n",
      "|   appliances|        12362| 0.16899521531100478|\n",
      "| country_yard|          185| 0.00252904989747095|\n",
      "|    furniture|         6972|   0.095311004784689|\n",
      "|  accessories|         2516| 0.03439507860560492|\n",
      "|         kids|         5123| 0.07003417634996582|\n",
      "|  electronics|        14950| 0.20437457279562543|\n",
      "| construction|         5701| 0.07793574846206425|\n",
      "+-------------+-------------+--------------------+\n",
      "\n"
     ]
    }
   ],
   "source": [
    "category_main_count = df_no_nulls.groupBy(\"category_main\").agg(countDistinct(\"product_id\").alias(\"product_count\"))\n",
    "category_main_count.show()\n",
    "\n",
    "# calculate total products\n",
    "total_products = df_no_nulls.select(countDistinct(\"product_id\")).collect()[0][0]\n",
    "\n",
    "# calculate the ratio of each product\n",
    "category_main_ratio = category_main_count.withColumn(\"product_ratio\", col(\"product_count\") / total_products)\n",
    "\n",
    "category_main_ratio.show()"
   ]
  },
  {
   "cell_type": "code",
   "execution_count": null,
   "metadata": {},
   "outputs": [],
   "source": [
    "category_main_ratio_pd = category_main_ratio.toPandas()\n",
    "\n",
    "mainCat_names = category_main_ratio_pd[\"category_main\"]\n",
    "mainCat_values = category_main_ratio_pd[\"product_ratio\"]\n",
    "\n",
    "plt.figure(figsize=(6, 6))\n",
    "plt.pie(mainCat_values, labels=mainCat_names, autopct='%1.1f%%', startangle=140, wedgeprops={'edgecolor': 'black'})\n",
    "plt.title(\"Main Category Distribution\")\n",
    "plt.show()"
   ]
  },
  {
   "cell_type": "code",
   "execution_count": 9,
   "metadata": {},
   "outputs": [
    {
     "name": "stdout",
     "output_type": "stream",
     "text": [
      "+-------------+----------+-------------+\n",
      "|category_main|event_type|product_count|\n",
      "+-------------+----------+-------------+\n",
      "|   appliances|  purchase|         4838|\n",
      "|   stationery|      cart|           34|\n",
      "|        sport|  purchase|          270|\n",
      "| construction|  purchase|          939|\n",
      "|   appliances|      cart|         2852|\n",
      "|         auto|      cart|          167|\n",
      "|    furniture|      cart|          218|\n",
      "|  accessories|  purchase|          554|\n",
      "|  electronics|  purchase|         4698|\n",
      "|    computers|      cart|         1285|\n",
      "+-------------+----------+-------------+\n",
      "only showing top 10 rows\n",
      "\n",
      "+-------------+-------------------+\n",
      "|category_main|    conversion_rate|\n",
      "+-------------+-------------------+\n",
      "|  accessories|0.17399497487437185|\n",
      "|      apparel|0.15754154907494514|\n",
      "|   appliances| 0.2412726910033912|\n",
      "|         auto|0.30804248861911987|\n",
      "|    computers|0.22255968953007677|\n",
      "| construction| 0.1347782402755849|\n",
      "| country_yard|0.13063063063063063|\n",
      "|  electronics|0.21801475706529305|\n",
      "|    furniture|0.18517679057116954|\n",
      "|         kids|0.15605144893847822|\n",
      "+-------------+-------------------+\n",
      "only showing top 10 rows\n",
      "\n"
     ]
    }
   ],
   "source": [
    "category_funnel = df_no_nulls.groupBy(\"category_main\", \"event_type\").agg(countDistinct(\"product_id\").alias(\"product_count\"))\n",
    "category_funnel.show(10)\n",
    "\n",
    "window_spec = Window.partitionBy(\"category_main\")\n",
    "category_conversion = category_funnel.withColumn(\"total_views\", sum(col(\"product_count\")).over(window_spec)) \\\n",
    "    .filter(col(\"event_type\") == \"purchase\") \\\n",
    "    .withColumn(\"conversion_rate\", col(\"product_count\") / col(\"total_views\")) \\\n",
    "    .select(\"category_main\", \"conversion_rate\")\n",
    "\n",
    "category_conversion.show(10)"
   ]
  },
  {
   "cell_type": "markdown",
   "metadata": {},
   "source": [
    "# Session Analysis & Feature Engineering"
   ]
  },
  {
   "cell_type": "code",
   "execution_count": 6,
   "metadata": {},
   "outputs": [],
   "source": [
    "from pyspark.sql import functions as F\n",
    "\n",
    "\n",
    "# filter out rows where 'user_session' is null \n",
    "df_sessions = df.filter(F.col(\"user_session\").isNotNull())\n",
    "\n",
    "# group by 'user_session' and aggregate the minimum and maximum 'event_time' per session\n",
    "# - Compute the session start (minimum event time) and end (maximum event time)\n",
    "# - Count the number of purchase events per session\n",
    "\n",
    "session_df = df_sessions.groupBy(\"user_session\").agg(\n",
    "    F.min(\"event_time\").alias(\"session_start\"),\n",
    "    F.max(\"event_time\").alias(\"session_end\"),\n",
    "    F.sum(F.when(F.col(\"event_type\") == \"purchase\", 1).otherwise(0)).alias(\"purchase_count\")\n",
    ")\n"
   ]
  },
  {
   "cell_type": "code",
   "execution_count": 7,
   "metadata": {},
   "outputs": [],
   "source": [
    "# Define thresholds for session duration classification (in minutes)\n",
    "SHORT_THRESHOLD = 5    # Sessions with duration <= 5 minutes are considered 'Short'\n",
    "LONG_THRESHOLD = 30    # Sessions with duration > 30 minutes are considered 'Long'\n",
    "\n",
    "\n",
    "# Calculate session duration in minutes.\n",
    "# This converts the 'session_start' and 'session_end' timestamps to Unix time (seconds since epoch),\n",
    "# subtracts to get the duration in seconds, and then converts to minutes.\n",
    "session_df = session_df.withColumn(\"session_duration_min\", \n",
    "    (F.unix_timestamp(\"session_end\") - F.unix_timestamp(\"session_start\")) / 60.0\n",
    ")\n",
    "\n",
    "# Classify sessions based on the duration:\n",
    "# - 'Short' if duration is <= SHORT_THRESHOLD minutes.\n",
    "# - 'Long' if duration is > LONG_THRESHOLD minutes.\n",
    "# - 'Medium' otherwise.\n",
    "session_df = session_df.withColumn(\"session_category\",\n",
    "    F.when(F.col(\"session_duration_min\") <= SHORT_THRESHOLD, \"Short\")\n",
    "     .when(F.col(\"session_duration_min\") > LONG_THRESHOLD, \"Long\")\n",
    "     .otherwise(\"Medium\")\n",
    ")\n",
    "\n",
    "# Create a binary flag 'converted' where a session is marked as 1 if at least one purchase was made,\n",
    "# and 0 otherwise.\n",
    "session_df = session_df.withColumn(\"converted\", F.when(F.col(\"purchase_count\") > 0, 1).otherwise(0))\n"
   ]
  },
  {
   "cell_type": "code",
   "execution_count": 8,
   "metadata": {},
   "outputs": [
    {
     "name": "stdout",
     "output_type": "stream",
     "text": [
      "+------------------------------------+--------------------+----------------+---------+-------------------+-------------------+--------------+\n",
      "|user_session                        |session_duration_min|session_category|converted|session_start      |session_end        |purchase_count|\n",
      "+------------------------------------+--------------------+----------------+---------+-------------------+-------------------+--------------+\n",
      "|fb94af5f-bf82-4751-97e4-74247fb5910e|0.0                 |Short           |0        |2019-10-01 06:19:37|2019-10-01 06:19:37|0             |\n",
      "|6be39caf-02d5-4e2c-935f-83808c4e9eb5|12.583333333333334  |Medium          |0        |2019-10-01 12:44:00|2019-10-01 12:56:35|0             |\n",
      "|e613e971-3fa9-4738-86ec-f1aacf106c89|25.416666666666668  |Medium          |0        |2019-10-01 12:54:59|2019-10-01 13:20:24|0             |\n",
      "|7d29ddb2-a9c3-4b86-8ed3-1e4205e5bd3a|21.633333333333333  |Medium          |0        |2019-10-01 13:25:42|2019-10-01 13:47:20|0             |\n",
      "|a03bd24d-3048-4109-accd-ba178262dfd0|0.0                 |Short           |0        |2019-10-01 14:10:00|2019-10-01 14:10:00|0             |\n",
      "|92ccf7d0-1a75-40b0-ad0d-af6733a22abe|0.25                |Short           |0        |2019-10-01 14:17:19|2019-10-01 14:17:34|0             |\n",
      "|f6f163c6-3993-4a82-8191-a70450a5d008|1.8833333333333333  |Short           |0        |2019-10-01 16:46:01|2019-10-01 16:47:54|0             |\n",
      "|0365247c-c7af-43a0-8eb3-c793f87b1516|4.766666666666667   |Short           |0        |2019-10-01 17:03:34|2019-10-01 17:08:20|0             |\n",
      "|23326bcd-d548-48ab-b9f6-3e93bc9ee141|3.2666666666666666  |Short           |1        |2019-10-01 17:13:11|2019-10-01 17:16:27|1             |\n",
      "|21863de1-68ef-4233-8e0d-af967ecf09e9|55.85               |Long            |0        |2019-10-01 17:33:00|2019-10-01 18:28:51|0             |\n",
      "+------------------------------------+--------------------+----------------+---------+-------------------+-------------------+--------------+\n",
      "only showing top 10 rows\n",
      "\n"
     ]
    }
   ],
   "source": [
    "# Display the session data\n",
    "session_df.select(\"user_session\", \"session_duration_min\", \"session_category\", \"converted\", \"session_start\", \"session_end\", \"purchase_count\").show(10, truncate=False)"
   ]
  },
  {
   "cell_type": "code",
   "execution_count": 9,
   "metadata": {},
   "outputs": [
    {
     "name": "stdout",
     "output_type": "stream",
     "text": [
      "root\n",
      " |-- user_session: string (nullable = true)\n",
      " |-- session_start: timestamp (nullable = true)\n",
      " |-- session_end: timestamp (nullable = true)\n",
      " |-- purchase_count: long (nullable = true)\n",
      " |-- session_duration_min: double (nullable = true)\n",
      " |-- session_category: string (nullable = false)\n",
      " |-- converted: integer (nullable = false)\n",
      "\n"
     ]
    }
   ],
   "source": [
    "session_df.printSchema()\n"
   ]
  },
  {
   "cell_type": "code",
   "execution_count": 10,
   "metadata": {},
   "outputs": [
    {
     "name": "stdout",
     "output_type": "stream",
     "text": [
      "+----------------+--------------+------------------+------------------+\n",
      "|session_category|total_sessions|converted_sessions|   conversion_rate|\n",
      "+----------------+--------------+------------------+------------------+\n",
      "|            Long|        295161|             31363|  10.6257262985286|\n",
      "|          Medium|       1830982|            239525|13.081777974879055|\n",
      "|           Short|       7118278|            358672| 5.038746730599732|\n",
      "+----------------+--------------+------------------+------------------+\n",
      "\n"
     ]
    }
   ],
   "source": [
    "\n",
    "# Group by session category to compute:\n",
    "# - The total number of sessions\n",
    "# - The number of sessions that converted (had at least one purchase)\n",
    "# Then, calculate the conversion rate as a percentage.\n",
    "conversion_df = session_df.groupBy(\"session_category\").agg(\n",
    "    F.count(\"user_session\").alias(\"total_sessions\"),\n",
    "    F.sum(\"converted\").alias(\"converted_sessions\")\n",
    ").withColumn(\"conversion_rate\", \n",
    "    F.col(\"converted_sessions\") / F.col(\"total_sessions\") * 100\n",
    ")\n",
    "\n",
    "# order the results by session category for better readability.\n",
    "conversion_df = conversion_df.orderBy(\"session_category\")\n",
    "\n",
    "# Show the conversion rates per session category.\n",
    "conversion_df.show()\n"
   ]
  },
  {
   "cell_type": "code",
   "execution_count": 11,
   "metadata": {},
   "outputs": [
    {
     "data": {
      "image/png": "[encoded data removed]",
      "text/plain": [
       "<Figure size 800x600 with 1 Axes>"
      ]
     },
     "metadata": {},
     "output_type": "display_data"
    }
   ],
   "source": [
    "# Convert the Spark DataFrame to a Pandas DataFrame for visualization.\n",
    "conversion_pd = conversion_df.toPandas()\n",
    "\n",
    "\n",
    "# Create a bar chart to compare conversion rates by session category.\n",
    "plt.figure(figsize=(8, 6))\n",
    "plt.bar(conversion_pd[\"session_category\"], conversion_pd[\"conversion_rate\"], color='skyblue')\n",
    "plt.xlabel(\"Session Category\")\n",
    "plt.ylabel(\"Conversion Rate (%)\")\n",
    "plt.title(\"Conversion Rate by Session Category\")\n",
    "plt.show()\n"
   ]
  }
 ],
 "metadata": {
  "kernelspec": {
   "display_name": "Python 3",
   "language": "python",
   "name": "python3"
  },
  "language_info": {
   "codemirror_mode": {
    "name": "ipython",
    "version": 3
   },
   "file_extension": ".py",
   "mimetype": "text/x-python",
   "name": "python",
   "nbconvert_exporter": "python",
   "pygments_lexer": "ipython3",
   "version": "3.11.3"
  }
 },
 "nbformat": 4,
 "nbformat_minor": 2
}
